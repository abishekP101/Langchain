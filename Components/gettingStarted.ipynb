{
 "cells": [
  {
   "cell_type": "code",
   "execution_count": 1,
   "id": "4ad17ed4",
   "metadata": {},
   "outputs": [],
   "source": [
    "import os\n",
    "from dotenv import load_dotenv\n",
    "load_dotenv()\n",
    "GROQ_API_KEY = os.getenv(\"GROQ_API_KEY1\")"
   ]
  },
  {
   "cell_type": "code",
   "execution_count": 2,
   "id": "4f109571",
   "metadata": {},
   "outputs": [
    {
     "data": {
      "text/plain": [
       "ChatGroq(client=<groq.resources.chat.completions.Completions object at 0x00000174B19FA0C0>, async_client=<groq.resources.chat.completions.AsyncCompletions object at 0x00000174B198DC70>, model_name='Gemma2-9b-It', model_kwargs={}, groq_api_key=SecretStr('**********'))"
      ]
     },
     "execution_count": 2,
     "metadata": {},
     "output_type": "execute_result"
    }
   ],
   "source": [
    "from langchain_groq import ChatGroq\n",
    "llm = ChatGroq(model='Gemma2-9b-It' , groq_api_key=GROQ_API_KEY)\n",
    "llm"
   ]
  },
  {
   "cell_type": "code",
   "execution_count": 7,
   "id": "95c9d4e5",
   "metadata": {},
   "outputs": [],
   "source": [
    "from langchain_core.messages import SystemMessage , AIMessage , HumanMessage\n",
    "\n",
    "messages = [\n",
    "    SystemMessage(content='Translate the following from English to French'),\n",
    "    HumanMessage(content=\"Hello how are you\")\n",
    "]\n",
    "result = llm.invoke(messages)\n",
    "\n"
   ]
  },
  {
   "cell_type": "code",
   "execution_count": 9,
   "id": "6658bf13",
   "metadata": {},
   "outputs": [
    {
     "data": {
      "text/plain": [
       "'Bonjour, comment allez-vous ? \\n\\n'"
      ]
     },
     "execution_count": 9,
     "metadata": {},
     "output_type": "execute_result"
    }
   ],
   "source": [
    "from langchain_core.output_parsers import StrOutputParser\n",
    "parser = StrOutputParser()\n",
    "parser.invoke(result)"
   ]
  },
  {
   "cell_type": "code",
   "execution_count": 10,
   "id": "30bf5c52",
   "metadata": {},
   "outputs": [],
   "source": [
    "from langchain_core.prompts import ChatPromptTemplate\n",
    "\n",
    "generic_prompt = 'Translate the following into {language}'\n",
    "\n",
    "prompt = ChatPromptTemplate.from_messages(\n",
    "    [('system' , generic_prompt),\n",
    "     ('user' , \"{text}\")]\n",
    ")\n",
    "\n"
   ]
  },
  {
   "cell_type": "code",
   "execution_count": 13,
   "id": "7e8e6ca4",
   "metadata": {},
   "outputs": [],
   "source": [
    "result = prompt.invoke({'language':'French' , 'text':'Hey! love you Natasha'})"
   ]
  },
  {
   "cell_type": "code",
   "execution_count": null,
   "id": "8b75c5bf",
   "metadata": {},
   "outputs": [
    {
     "data": {
      "text/plain": [
       "'There are a few ways to translate \"Hey! Love you Natasha\" into French, depending on the level of formality and how you want to express your affection:\\n\\n**Informal:**\\n\\n* **Salut ! J\\'adore toi Natasha !** (This is a very casual and affectionate way to say it.)\\n* **Hey ! Je t\\'aime Natasha !** (This is more direct and passionate.)\\n\\n**More formal:**\\n\\n* **Salut Natasha ! Je t\\'aime.** (This is more polite and less intense.)\\n\\n**Note:**\\n\\n*  \"Salut\" is a common informal greeting, similar to \"Hey!\"\\n* \"J\\'adore toi\" means \"I adore you\" and is a strong expression of love.\\n* \"Je t\\'aime\" means \"I love you\" and is a more traditional and universally understood expression.\\n\\n\\nChoose the translation that best suits the context and your relationship with Natasha.\\n'"
      ]
     },
     "execution_count": 14,
     "metadata": {},
     "output_type": "execute_result"
    }
   ],
   "source": [
    "chain = prompt | llm | parser\n",
    "chain.invoke({'language':'French' , 'text':'Hey! love you'})"
   ]
  }
 ],
 "metadata": {
  "kernelspec": {
   "display_name": "Python 3",
   "language": "python",
   "name": "python3"
  },
  "language_info": {
   "codemirror_mode": {
    "name": "ipython",
    "version": 3
   },
   "file_extension": ".py",
   "mimetype": "text/x-python",
   "name": "python",
   "nbconvert_exporter": "python",
   "pygments_lexer": "ipython3",
   "version": "3.12.4"
  }
 },
 "nbformat": 4,
 "nbformat_minor": 5
}

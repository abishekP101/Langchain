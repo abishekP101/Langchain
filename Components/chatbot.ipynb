{
 "cells": [
  {
   "cell_type": "code",
   "execution_count": 1,
   "id": "e1944d44",
   "metadata": {},
   "outputs": [],
   "source": [
    "from langchain_core.prompts import ChatPromptTemplate\n",
    "from langchain_core.output_parsers import StrOutputParser\n",
    "from langchain_groq import ChatGroq\n",
    "import os\n",
    "from dotenv import load_dotenv\n",
    "load_dotenv()\n",
    "GROQ_API_KEY = os.getenv('GROQ_API_KEY1')"
   ]
  },
  {
   "cell_type": "code",
   "execution_count": 2,
   "id": "de9ee48a",
   "metadata": {},
   "outputs": [],
   "source": [
    "llm = ChatGroq(model='Gemma2-9b-It' ,\n",
    "         groq_api_key=GROQ_API_KEY)"
   ]
  },
  {
   "cell_type": "code",
   "execution_count": 3,
   "id": "12c01746",
   "metadata": {},
   "outputs": [
    {
     "data": {
      "text/plain": [
       "AIMessage(content=\"Hi Abishek, \\n\\nIt's nice to meet you!\\n\\nWhat can I do for you today? Are you working on a school project, looking for information, or just want to chat? 😊  \\n\\n\", additional_kwargs={}, response_metadata={'token_usage': {'completion_tokens': 48, 'prompt_tokens': 22, 'total_tokens': 70, 'completion_time': 0.087272727, 'prompt_time': 0.001323221, 'queue_time': 0.25149079, 'total_time': 0.088595948}, 'model_name': 'Gemma2-9b-It', 'system_fingerprint': 'fp_10c08bf97d', 'finish_reason': 'stop', 'logprobs': None}, id='run--7a90c3ad-7559-4538-9adc-648eb4291bd1-0', usage_metadata={'input_tokens': 22, 'output_tokens': 48, 'total_tokens': 70})"
      ]
     },
     "execution_count": 3,
     "metadata": {},
     "output_type": "execute_result"
    }
   ],
   "source": [
    "from langchain_core.messages import SystemMessage , AIMessage , HumanMessage\n",
    "llm.invoke([\n",
    "    HumanMessage(content=\"Hi , My name is Abishek and I am a Student\")\n",
    "])"
   ]
  },
  {
   "cell_type": "code",
   "execution_count": 4,
   "id": "0f56b597",
   "metadata": {},
   "outputs": [
    {
     "data": {
      "text/plain": [
       "AIMessage(content=\"You told me your name is Abishek!  \\n\\nAnd based on what you said, you are a student.  That means you don't have a job, right? \\n\\nIs there anything else you'd like to talk about?\\n\", additional_kwargs={}, response_metadata={'token_usage': {'completion_tokens': 54, 'prompt_tokens': 87, 'total_tokens': 141, 'completion_time': 0.098181818, 'prompt_time': 0.002500561, 'queue_time': 0.25605027399999997, 'total_time': 0.100682379}, 'model_name': 'Gemma2-9b-It', 'system_fingerprint': 'fp_10c08bf97d', 'finish_reason': 'stop', 'logprobs': None}, id='run--b4a743c9-dc8b-4d8a-b18b-bf5ef239ee46-0', usage_metadata={'input_tokens': 87, 'output_tokens': 54, 'total_tokens': 141})"
      ]
     },
     "execution_count": 4,
     "metadata": {},
     "output_type": "execute_result"
    }
   ],
   "source": [
    "llm.invoke([\n",
    "    HumanMessage(content=\"Hi , My name is Abishek and I am a Student\"),\n",
    "    AIMessage(content=\"Hi Abishek, \\n\\nIt's nice to meet you!\\n\\nWhat can I do for you today? Are you working on a school project, looking for information, or just want to chat? 😊\"),\n",
    "    HumanMessage(content=\"What is my Name ? and do i have a job?\")\n",
    "])"
   ]
  },
  {
   "cell_type": "code",
   "execution_count": 5,
   "id": "7bbea95b",
   "metadata": {},
   "outputs": [],
   "source": [
    "from langchain_community.chat_message_histories import ChatMessageHistory\n",
    "from langchain_core.chat_history import BaseChatMessageHistory\n",
    "from langchain_core.runnables.history import RunnableWithMessageHistory\n",
    "\n",
    "\n",
    "store={}\n",
    "\n",
    "def get_session_history(session_id:str)-> BaseChatMessageHistory:\n",
    "    if session_id not in store:\n",
    "        store[session_id] = ChatMessageHistory()\n",
    "    return store[session_id]\n",
    "\n",
    "with_message_history = RunnableWithMessageHistory(llm , get_session_history)"
   ]
  },
  {
   "cell_type": "code",
   "execution_count": 13,
   "id": "77f27506",
   "metadata": {},
   "outputs": [],
   "source": [
    "configuration = {\"configurable\":{\"session_id\": \"chat1\"}}"
   ]
  },
  {
   "cell_type": "code",
   "execution_count": 14,
   "id": "8373d451",
   "metadata": {},
   "outputs": [],
   "source": [
    "response = with_message_history.invoke(\n",
    "    [HumanMessage(content=\"Hi , My name is Abishek and I'm a student\")],\n",
    "    config=configuration\n",
    ")"
   ]
  },
  {
   "cell_type": "code",
   "execution_count": 16,
   "id": "03958500",
   "metadata": {},
   "outputs": [
    {
     "data": {
      "text/plain": [
       "\"Hi Abishek!  Nice to meet you.\\n\\nWhat can I do for you today? Are you working on a project, or just curious about something?  I'm happy to help in any way I can. 😊\\n\""
      ]
     },
     "execution_count": 16,
     "metadata": {},
     "output_type": "execute_result"
    }
   ],
   "source": [
    "response.content"
   ]
  },
  {
   "cell_type": "code",
   "execution_count": 18,
   "id": "672aa99f",
   "metadata": {},
   "outputs": [
    {
     "data": {
      "text/plain": [
       "AIMessage(content='Your name is Abishek.  \\n\\nI remember that from our first conversation!  😄  Is there anything else I can help you with?\\n', additional_kwargs={}, response_metadata={'token_usage': {'completion_tokens': 33, 'prompt_tokens': 86, 'total_tokens': 119, 'completion_time': 0.06, 'prompt_time': 0.00259234, 'queue_time': 0.25719112, 'total_time': 0.06259234}, 'model_name': 'Gemma2-9b-It', 'system_fingerprint': 'fp_10c08bf97d', 'finish_reason': 'stop', 'logprobs': None}, id='run--497e69f2-ca31-47c5-9020-2b0e9b1801e2-0', usage_metadata={'input_tokens': 86, 'output_tokens': 33, 'total_tokens': 119})"
      ]
     },
     "execution_count": 18,
     "metadata": {},
     "output_type": "execute_result"
    }
   ],
   "source": [
    "with_message_history.invoke(\n",
    "    [HumanMessage(content=\"What is my Name?\")],\n",
    "    config=configuration\n",
    ")"
   ]
  },
  {
   "cell_type": "code",
   "execution_count": 20,
   "id": "a65dfd8b",
   "metadata": {},
   "outputs": [
    {
     "data": {
      "text/plain": [
       "\"As an AI, I have no memory of past conversations and do not know your name. If you'd like to tell me, I'd be happy to know! 😊\\n\""
      ]
     },
     "execution_count": 20,
     "metadata": {},
     "output_type": "execute_result"
    }
   ],
   "source": [
    "configuration1 = {\"configurable\":{\"session_id\": \"chat2\"}}\n",
    "response = with_message_history.invoke(\n",
    "    [HumanMessage(content=\"Hi, What is my name\")],\n",
    "    config=configuration1\n",
    ")\n",
    "response.content"
   ]
  },
  {
   "cell_type": "markdown",
   "id": "57a2a974",
   "metadata": {},
   "source": [
    "## Prompt Template"
   ]
  },
  {
   "cell_type": "code",
   "execution_count": 21,
   "id": "e576e0f1",
   "metadata": {},
   "outputs": [],
   "source": [
    "from langchain_core.prompts import ChatPromptTemplate , MessagesPlaceholder\n",
    "\n",
    "prompt = ChatPromptTemplate.from_messages(\n",
    "    [\n",
    "        (\"system\" , \"You are a Helpful Assistant. Answer all the question to the best of your ability\"),\n",
    "        MessagesPlaceholder(variable_name='messages')\n",
    "    ]\n",
    ")\n",
    "chain = prompt | llm"
   ]
  },
  {
   "cell_type": "code",
   "execution_count": 23,
   "id": "5d71f65a",
   "metadata": {},
   "outputs": [
    {
     "data": {
      "text/plain": [
       "AIMessage(content=\"It's wonderful that you want to make someone feel special! It's about showing them you care and appreciate them. Here are some ways to do that:\\n\\n**Thoughtful Gestures:**\\n\\n* **Listen attentively:**  When they talk, really listen.  Make eye contact, ask questions, and show genuine interest.\\n* **Remember the little things:**  Recall their favorite things, like their birthday, hobbies, or a funny inside joke. \\n* **Small acts of kindness:** Offer to help with a task, make them their favorite meal, or surprise them with a small gift that shows you were thinking of them.\\n* **Write a heartfelt note:**  A handwritten letter or card expressing your appreciation can be incredibly meaningful.\\n\\n**Quality Time:**\\n\\n* **Spend time doing something they enjoy:**  Even if it's not your favorite thing, showing interest in their hobbies shows you care.\\n* **Be present:** When you're together, put away your phone and focus on them. \\n* **Create new memories:**  Try a new activity together, go on an adventure, or simply have a cozy night in.\\n\\n**Words of Affirmation:**\\n\\n* **Express your feelings:** Tell them how much you appreciate them, how much they mean to you, and what you admire about them.\\n* **Give genuine compliments:** Notice their strengths and talents and let them know you see them.\\n* **Offer encouragement:**  Be there to support them through challenges and celebrate their successes.\\n\\n**Remember:**\\n\\n* **Be authentic:**  The most important thing is to be genuine. People can tell when you're not being sincere.\\n* **Every person is different:** What makes one person feel special may not work for another. Pay attention to what they respond to and tailor your actions accordingly.\\n* **Consistency is key:**  Making someone feel special isn't a one-time thing. It's about showing them you care on a regular basis.\\n\\n\\nI hope these tips help you make someone feel extra special!\\n\", additional_kwargs={}, response_metadata={'token_usage': {'completion_tokens': 425, 'prompt_tokens': 31, 'total_tokens': 456, 'completion_time': 0.772727273, 'prompt_time': 0.001491328, 'queue_time': 0.257590092, 'total_time': 0.774218601}, 'model_name': 'Gemma2-9b-It', 'system_fingerprint': 'fp_10c08bf97d', 'finish_reason': 'stop', 'logprobs': None}, id='run--79127964-7095-4533-ade4-ee5db8fcca19-0', usage_metadata={'input_tokens': 31, 'output_tokens': 425, 'total_tokens': 456})"
      ]
     },
     "execution_count": 23,
     "metadata": {},
     "output_type": "execute_result"
    }
   ],
   "source": [
    "chain.invoke({\"messages\": [HumanMessage(content=\"How to feel someone special ?\")]})"
   ]
  },
  {
   "cell_type": "code",
   "execution_count": 24,
   "id": "f4377c74",
   "metadata": {},
   "outputs": [],
   "source": [
    "with_message_history = RunnableWithMessageHistory(chain , get_session_history)"
   ]
  },
  {
   "cell_type": "code",
   "execution_count": 25,
   "id": "ef4e633b",
   "metadata": {},
   "outputs": [
    {
     "data": {
      "text/plain": [
       "\"Hello Abishek, it's nice to meet you! \\n\\nWhat can I help you with today? 😊  \\n\\n\""
      ]
     },
     "execution_count": 25,
     "metadata": {},
     "output_type": "execute_result"
    }
   ],
   "source": [
    "configuration1 = {\"configurable\":{\"session_id\": \"chat3\"}}\n",
    "response = with_message_history.invoke(\n",
    "    [HumanMessage(content=\"Hi, My name is Abishek\")],\n",
    "    config=configuration1\n",
    ")\n",
    "response.content"
   ]
  },
  {
   "cell_type": "code",
   "execution_count": 26,
   "id": "74e17792",
   "metadata": {},
   "outputs": [],
   "source": [
    "prompt = ChatPromptTemplate.from_messages(\n",
    "    [\n",
    "        (\"system\" , \"You are a Helpful Assistant. Answer all the question to the best of your ability in {language}\"),\n",
    "        MessagesPlaceholder(variable_name='messages')\n",
    "    ]\n",
    ")\n",
    "chain = prompt | llm"
   ]
  },
  {
   "cell_type": "code",
   "execution_count": 27,
   "id": "204dfc08",
   "metadata": {},
   "outputs": [],
   "source": [
    "response = chain.invoke({\"messages\":[HumanMessage(content=\"HI, My name is Abishek  and i really like someone how to express..?\")],\"language\":\"Hindi\"})"
   ]
  },
  {
   "cell_type": "code",
   "execution_count": 28,
   "id": "9bfd642f",
   "metadata": {},
   "outputs": [
    {
     "data": {
      "text/plain": [
       "AIMessage(content='नमस्ते अभिषेक! 😊 \\n\\nकिसी को पसंद करना बहुत ही अच्छा महसूस होता है!  \\n\\nआप अपनी भावनाएँ व्यक्त करने के लिए कई तरह के तरीके अपना सकते हैं। \\n\\n**कुछ सुझाव:**\\n\\n* **सबसे पहले, अपने आप से यकीन कर लें:**  क्या आपको वास्तव में उन्हें पसंद हैं, या यह सिर्फ एक चंचल मनोदशा है? \\n\\n* **धीरे-धीरे शुरुआत करें:**  उन्हें एक मीठी बात कहें,  एक छोटा सा उपहार दें, या उनके साथ ज्यादा समय बिताने की कोशिश करें। \\n\\n* **अपनी दिलचस्पी दिखाएं:**  उनके बारे में पूछें, उनकी बातों में दिलचस्पी लें, और उनके शौक और रुचियों को समझने की कोशिश करें।\\n\\n* **उनके साथ एक-एक करके जुड़ें:**  उनके साथ सामान्य बातचीत करें,  उनकी हँसी सुनें, और उनसे गहरी बातचीत करने का प्रयास करें। \\n\\n* **विश्वास बनाएँ:**  उनसे ईमानदारी से बात करें, और अपने विचारों और भावनाओं को साझा करें। \\n\\n* **स्पष्ट रहें:**  अगर आप उन्हें पसंद करते हैं, तो उन्हें बताएं!  \\n\\nयाद रखें, धैर्य रखें और सम्मानजनक बनें। \\n\\nउम्मीद है कि ये सुझाव आपको मददगार होंगे! \\n\\n', additional_kwargs={}, response_metadata={'token_usage': {'completion_tokens': 352, 'prompt_tokens': 45, 'total_tokens': 397, 'completion_time': 0.64, 'prompt_time': 0.001652663, 'queue_time': 0.253586517, 'total_time': 0.641652663}, 'model_name': 'Gemma2-9b-It', 'system_fingerprint': 'fp_10c08bf97d', 'finish_reason': 'stop', 'logprobs': None}, id='run--f73cf3cd-c6c7-476e-8a65-fb7320f54456-0', usage_metadata={'input_tokens': 45, 'output_tokens': 352, 'total_tokens': 397})"
      ]
     },
     "execution_count": 28,
     "metadata": {},
     "output_type": "execute_result"
    }
   ],
   "source": [
    "response"
   ]
  },
  {
   "cell_type": "code",
   "execution_count": 29,
   "id": "981e977d",
   "metadata": {},
   "outputs": [],
   "source": [
    "with_message_history = RunnableWithMessageHistory(chain,\n",
    "                                                get_session_history,\n",
    "                                                input_messages_key=\"messages\")"
   ]
  },
  {
   "cell_type": "code",
   "execution_count": 30,
   "id": "d79f1ddb",
   "metadata": {},
   "outputs": [
    {
     "data": {
      "text/plain": [
       "'Namaste Abishek! \\n\\nआप मुझसे जो भी प्रश्न पूछेंगे, मैं उसका उत्तर देने की पूरी कोशिश करूँगा। 😊  \\n\\nआप किस बारे में जानना चाहते हैं? \\n'"
      ]
     },
     "execution_count": 30,
     "metadata": {},
     "output_type": "execute_result"
    }
   ],
   "source": [
    "configuration4 = {\"configurable\":{\"session_id\": \"chat4\"}}\n",
    "response = with_message_history.invoke(\n",
    "    {\"messages\":[HumanMessage(content=\"Hi, My name is Abishek\")],\"language\":\"Hindi\"},\n",
    "    config=configuration4\n",
    ")\n",
    "response.content\n"
   ]
  },
  {
   "cell_type": "code",
   "execution_count": 31,
   "id": "a4b0181e",
   "metadata": {},
   "outputs": [
    {
     "data": {
      "text/plain": [
       "'आपका नाम Abishek है। \\n'"
      ]
     },
     "execution_count": 31,
     "metadata": {},
     "output_type": "execute_result"
    }
   ],
   "source": [
    "response = with_message_history.invoke(\n",
    "    {\"messages\":[HumanMessage(content=\"What is my name?\")],\"language\":\"Hindi\"},\n",
    "    config=configuration4\n",
    ")\n",
    "response.content"
   ]
  },
  {
   "cell_type": "markdown",
   "id": "bbda2b52",
   "metadata": {},
   "source": [
    "### Manage conversation History"
   ]
  },
  {
   "cell_type": "code",
   "execution_count": 43,
   "id": "29ababf6",
   "metadata": {},
   "outputs": [],
   "source": [
    "def my_token_counter(text: str)-> int:\n",
    "    return len(text.split())"
   ]
  },
  {
   "cell_type": "code",
   "execution_count": 46,
   "id": "177d394f",
   "metadata": {},
   "outputs": [],
   "source": [
    "from langchain_core.messages import trim_messages\n",
    "trimmer = trim_messages(\n",
    "    max_tokens=70,\n",
    "    strategy=\"last\",\n",
    "    token_counter=llm,\n",
    "    include_system=True,\n",
    "    allow_partial=False,\n",
    "    start_on =\"human\"\n",
    ")"
   ]
  },
  {
   "cell_type": "code",
   "execution_count": 39,
   "id": "6a3826d0",
   "metadata": {},
   "outputs": [],
   "source": [
    "messages = [\n",
    "    SystemMessage(content=\"You are a helpful assistant\"),\n",
    "    HumanMessage(content=\"Hi, my name is Abishek.\"),\n",
    "    AIMessage(content=\"Hello Abishek! How can I help you today?\"),\n",
    "    HumanMessage(content=\"Can you tell me about artificial intelligence?\"),\n",
    "    AIMessage(content=\"Sure! Artificial intelligence is a field of computer science focused on creating systems that can perform tasks that typically require human intelligence.\"),\n",
    "    HumanMessage(content=\"That's interesting. Can you give an example?\"),\n",
    "    AIMessage(content=\"Of course! Virtual assistants like Siri or Alexa are examples of AI that help users with various tasks.\"),\n",
    "    HumanMessage(content=\"Thank you!\"),\n",
    "    AIMessage(content=\"You're welcome! If you have more questions, feel free to ask.\")\n",
    "]"
   ]
  },
  {
   "cell_type": "code",
   "execution_count": null,
   "id": "1c2a6764",
   "metadata": {},
   "outputs": [],
   "source": [
    "from operator import itemgetter\n",
    "from langchain_core.runnables import RunnablePassthrough\n",
    "\n",
    "chain=(\n",
    "    RunnablePassthrough.assign(messages=itemgetter(\"messages\") | trimmer)\n",
    "    | prompt\n",
    "    | llm\n",
    ")\n",
    "response=chain.invoke(\n",
    "    {\n",
    "        \"messages\": messages+ [HumanMessage(content=\"What topic did i ask about?\")],\n",
    "        \"language\": \"English\",\n",
    "\n",
    "    }\n",
    ")\n",
    "response.content"
   ]
  },
  {
   "cell_type": "markdown",
   "id": "55ca7385",
   "metadata": {},
   "source": []
  },
  {
   "cell_type": "code",
   "execution_count": null,
   "id": "406a5648",
   "metadata": {},
   "outputs": [],
   "source": []
  }
 ],
 "metadata": {
  "kernelspec": {
   "display_name": "Python 3",
   "language": "python",
   "name": "python3"
  },
  "language_info": {
   "codemirror_mode": {
    "name": "ipython",
    "version": 3
   },
   "file_extension": ".py",
   "mimetype": "text/x-python",
   "name": "python",
   "nbconvert_exporter": "python",
   "pygments_lexer": "ipython3",
   "version": "3.12.4"
  }
 },
 "nbformat": 4,
 "nbformat_minor": 5
}
